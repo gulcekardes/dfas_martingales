{
 "cells": [
  {
   "cell_type": "markdown",
   "id": "fda37126",
   "metadata": {},
   "source": [
    "### **Specify max. $\\tau$.**"
   ]
  },
  {
   "cell_type": "code",
   "execution_count": 1,
   "id": "0a6eba81",
   "metadata": {},
   "outputs": [],
   "source": [
    "tau = 19"
   ]
  },
  {
   "cell_type": "code",
   "execution_count": 2,
   "id": "e1081e1f",
   "metadata": {},
   "outputs": [
    {
     "name": "stdout",
     "output_type": "stream",
     "text": [
      "19\n"
     ]
    }
   ],
   "source": [
    "print(tau)"
   ]
  },
  {
   "cell_type": "code",
   "execution_count": 3,
   "id": "70efd3ca",
   "metadata": {},
   "outputs": [],
   "source": [
    "import numpy as np"
   ]
  },
  {
   "cell_type": "markdown",
   "id": "f5369c2e",
   "metadata": {},
   "source": [
    "#### Stochastic transition matrix for transitions. Exemplified for iid below but applies to every stochastic matrix."
   ]
  },
  {
   "cell_type": "code",
   "execution_count": 4,
   "id": "64877cfa",
   "metadata": {},
   "outputs": [
    {
     "data": {
      "text/plain": [
       "array([[0.5, 0.7, 0. ],\n",
       "       [0.5, 0. , 0.2],\n",
       "       [0. , 0.3, 0.8]])"
      ]
     },
     "execution_count": 4,
     "metadata": {},
     "output_type": "execute_result"
    }
   ],
   "source": [
    "W = np.array([[0.5, 0.7, 0],[0.5, 0, 0.2],[0, 0.3, 0.8]])\n",
    "# W = np.array([[0.2, 0.7, 0], [0.8, 0, 0.9], [0, 0.3, 0.1]])\n",
    "\n",
    "W"
   ]
  },
  {
   "cell_type": "code",
   "execution_count": 5,
   "id": "25608293",
   "metadata": {},
   "outputs": [
    {
     "data": {
      "text/plain": [
       "(3, 3)"
      ]
     },
     "execution_count": 5,
     "metadata": {},
     "output_type": "execute_result"
    }
   ],
   "source": [
    "W.shape"
   ]
  },
  {
   "cell_type": "markdown",
   "id": "e720ab45",
   "metadata": {},
   "source": [
    "#### Adjacency matrix for DFA transitions."
   ]
  },
  {
   "cell_type": "code",
   "execution_count": 6,
   "id": "ac56ea70",
   "metadata": {},
   "outputs": [
    {
     "data": {
      "text/plain": [
       "array([[ 0,  1, -1],\n",
       "       [ 1, -1,  0],\n",
       "       [-1,  0,  1]])"
      ]
     },
     "execution_count": 6,
     "metadata": {},
     "output_type": "execute_result"
    }
   ],
   "source": [
    "A = np.array([[0, 1, -1], [1, -1, 0], [-1, 0, 1]])\n",
    "A"
   ]
  },
  {
   "cell_type": "markdown",
   "id": "f80e0aaf",
   "metadata": {},
   "source": [
    "### ****Count number of strings, generate strings, get path probabilities associated with strings and DFA trajectories.****"
   ]
  },
  {
   "cell_type": "code",
   "execution_count": 7,
   "id": "033c5781",
   "metadata": {},
   "outputs": [
    {
     "data": {
      "text/plain": [
       "524288"
      ]
     },
     "execution_count": 7,
     "metadata": {},
     "output_type": "execute_result"
    }
   ],
   "source": [
    "def count_num_str(n):\n",
    "    return 2**n\n",
    "\n",
    "num_str = count_num_str(tau)\n",
    "num_str"
   ]
  },
  {
   "cell_type": "code",
   "execution_count": 8,
   "id": "d17baed7",
   "metadata": {},
   "outputs": [],
   "source": [
    "def generateStrings(symbols, t):\n",
    "    strings = []\n",
    "    n = len(symbols)\n",
    "    generateStringsRec(symbols, \"\", n, t, strings)\n",
    "    return strings\n",
    "    \n",
    "def generateStringsRec(symbols, prefix, n, t, strings):\n",
    "     \n",
    "    # Base case: t is 0,\n",
    "    # print prefix\n",
    "    if (t == 0) :\n",
    "        strings.append(prefix)\n",
    "        return\n",
    " \n",
    "    # One by one add all characters\n",
    "    # from set and recursively\n",
    "    # call for k equals to k-1\n",
    "    for i in range(n):\n",
    " \n",
    "        # Next character of input added\n",
    "        newPrefix = prefix + symbols[i]\n",
    "         \n",
    "        # k is decreased, because\n",
    "        # we have added a new character\n",
    "        generateStringsRec(symbols, newPrefix, n, t - 1, strings)"
   ]
  },
  {
   "cell_type": "code",
   "execution_count": 9,
   "id": "465aeec6",
   "metadata": {},
   "outputs": [],
   "source": [
    "symbols = ['0', '1']\n",
    "idx_state_dict = {0: 'q0', 1: 'q1', 2: 'q2'}\n",
    "state_idx_dict = {'q0': 0, 'q1': 1, 'q2': 2}"
   ]
  },
  {
   "cell_type": "markdown",
   "id": "b6a1ace6",
   "metadata": {},
   "source": [
    "See generated strings."
   ]
  },
  {
   "cell_type": "code",
   "execution_count": 10,
   "id": "b52fc3cc",
   "metadata": {},
   "outputs": [],
   "source": [
    "def generateAllStrings(symbols, t):\n",
    "    strings = []\n",
    "    for t in range(tau,tau+1):\n",
    "        strings.extend(generateStrings(symbols, t))      \n",
    "    return strings\n",
    "\n",
    "strings = generateAllStrings(symbols, tau)\n",
    "# print(strings)"
   ]
  },
  {
   "cell_type": "markdown",
   "id": "7bcbc387",
   "metadata": {},
   "source": [
    "#### Tuple of generated strings, induced DFA trajectories, path probabilities in the forward dynamics. "
   ]
  },
  {
   "cell_type": "code",
   "execution_count": 11,
   "id": "4c7b6002",
   "metadata": {},
   "outputs": [],
   "source": [
    "def get_path_prob(W, A, strings):\n",
    "    path_with_prob = []\n",
    "    for string in strings:\n",
    "        string_prob, path = compute_prob(W, A, string)\n",
    "        # normalizing the probability below\n",
    "        normalized_string_prob = string_prob*(2**len(string))/num_str\n",
    "        path_with_prob.append((string, normalized_string_prob , path))\n",
    "        \n",
    "    return path_with_prob\n",
    "    \n",
    "def compute_prob(W, A, string):\n",
    "    curr_state = 0\n",
    "    string_prob = 1\n",
    "    path = []\n",
    "    for symbol in string:\n",
    "        path.append(idx_state_dict[curr_state])\n",
    "        next_state = do_transition(A, curr_state, symbol)\n",
    "        transition_prob = get_transition_prob(curr_state, next_state, W)\n",
    "        string_prob *= transition_prob\n",
    "        curr_state = next_state\n",
    "    path.append(idx_state_dict[next_state])\n",
    "    \n",
    "    return string_prob, path\n",
    "    \n",
    "def do_transition(A, curr_state, symbol):\n",
    "    for j in range(len(A[curr_state])):\n",
    "        if A[curr_state][j] == int(symbol):\n",
    "            return j\n",
    "    \n",
    "def get_transition_prob(curr_state, next_state, W):\n",
    "    return W[next_state][curr_state]\n",
    "\n",
    "# compute path probabilities\n",
    "path_prob = get_path_prob(W, A, strings)\n",
    "# path_prob"
   ]
  },
  {
   "cell_type": "markdown",
   "id": "9a6ffc77",
   "metadata": {},
   "source": [
    "#### Compute inflow for each DFA state."
   ]
  },
  {
   "cell_type": "code",
   "execution_count": 12,
   "id": "e252d35e",
   "metadata": {},
   "outputs": [],
   "source": [
    "# Cell to calculate inflow vector\n",
    "def calculate_inflow_vector(W):\n",
    "    return np.sum(W, axis=1)\n",
    "  \n",
    "inflow_vector = calculate_inflow_vector(W)\n",
    "# inflow_vector"
   ]
  },
  {
   "cell_type": "code",
   "execution_count": 13,
   "id": "ec0f0d9c",
   "metadata": {},
   "outputs": [],
   "source": [
    "# Verify normalization\n",
    "def verify_normalization(path_prob):\n",
    "    return [prob[1] for prob in path_prob]\n",
    "\n",
    "x = verify_normalization(path_prob)\n",
    "s = 0\n",
    "for i in x:\n",
    "    s += i\n",
    "# s"
   ]
  },
  {
   "cell_type": "markdown",
   "id": "039b9e13",
   "metadata": {},
   "source": [
    "#### Prepare adjoint dynamics matrix to call soon."
   ]
  },
  {
   "cell_type": "code",
   "execution_count": 14,
   "id": "94d0be9c",
   "metadata": {},
   "outputs": [
    {
     "data": {
      "text/plain": [
       "array([[0.5, 0.7, 0. ],\n",
       "       [0.5, 0. , 0.2],\n",
       "       [0. , 0.3, 0.8]])"
      ]
     },
     "execution_count": 14,
     "metadata": {},
     "output_type": "execute_result"
    }
   ],
   "source": [
    "W"
   ]
  },
  {
   "cell_type": "code",
   "execution_count": 15,
   "id": "5f8a223d",
   "metadata": {},
   "outputs": [
    {
     "data": {
      "text/plain": [
       "array([[0.41666667, 0.71428571, 0.        ],\n",
       "       [0.58333333, 0.        , 0.27272727],\n",
       "       [0.        , 0.28571429, 0.72727273]])"
      ]
     },
     "execution_count": 15,
     "metadata": {},
     "output_type": "execute_result"
    }
   ],
   "source": [
    "def calculate_aux_matrix(W, inflow_vector):\n",
    "    return np.transpose([W[i]/inflow_vector[i] for i in range(W.shape[0])])\n",
    "\n",
    "W_aux = calculate_aux_matrix(W, inflow_vector)\n",
    "W_aux"
   ]
  },
  {
   "cell_type": "code",
   "execution_count": 16,
   "id": "d10d8b17",
   "metadata": {},
   "outputs": [],
   "source": [
    "# calculate prob of sequence in the W_aux matrix\n",
    "w_aux_path_prob = get_path_prob(W_aux, A, strings)\n",
    "# path_prob"
   ]
  },
  {
   "cell_type": "markdown",
   "id": "7ce4c016",
   "metadata": {},
   "source": [
    "### Give path probability tuple augmented with accumulated inflow $\\epsilon_{\\tau}$ associated with each forward path in the forward dynamics."
   ]
  },
  {
   "cell_type": "code",
   "execution_count": 17,
   "id": "9bbde02c",
   "metadata": {},
   "outputs": [],
   "source": [
    "def append_epsilon_to_path_prob(path_prob, inflow_vector):\n",
    "    appended_path_prob = []\n",
    "    for path in path_prob:\n",
    "        dfa_states = path[2]\n",
    "        epsilon = 1.0\n",
    "        break_condition = 5\n",
    "        for i in range(len(dfa_states)):\n",
    "            if dfa_states[i] == 'q0' and i > 0:\n",
    "                break_condition -= 1\n",
    "            if break_condition == 0: break\n",
    "            if i == len(dfa_states)-1: continue\n",
    "            index = list(idx_state_dict.keys())[list(idx_state_dict.values()).index(dfa_states[i])]\n",
    "            inflow_prob = inflow_vector[index]\n",
    "            epsilon *= inflow_prob\n",
    "        path = path + (np.log(epsilon),)\n",
    "        appended_path_prob.append(path)\n",
    "    return appended_path_prob"
   ]
  },
  {
   "cell_type": "code",
   "execution_count": 18,
   "id": "80539ae9",
   "metadata": {},
   "outputs": [],
   "source": [
    "appended_path_prob = append_epsilon_to_path_prob(path_prob, inflow_vector)\n",
    "# appended_path_prob"
   ]
  },
  {
   "cell_type": "code",
   "execution_count": 19,
   "id": "d054bd33",
   "metadata": {},
   "outputs": [],
   "source": [
    "def get_path_prob(W, state_sequence):\n",
    "    prob = 1.0\n",
    "    for i in range(len(state_sequence)-1):\n",
    "        prob *= W[state_idx_dict[state_sequence[i+1]]][state_idx_dict[state_sequence[i]]]\n",
    "    return prob\n",
    "\n",
    "path_prob_2 = []\n",
    "for path in appended_path_prob:\n",
    "    string = path[0]\n",
    "    seqStates = path[2]\n",
    "    stoppedSeqStates = []\n",
    "    break_condition = 5\n",
    "    for i in range(len(seqStates)):\n",
    "        stoppedSeqStates.append(seqStates[i])\n",
    "        if i > 0 and seqStates[i] == 'q0':\n",
    "            break_condition -= 1\n",
    "        if break_condition == 0: break\n",
    "    revSeqStates = list(reversed(stoppedSeqStates))\n",
    "    prob_stopped_seq_states = get_path_prob(W, stoppedSeqStates)\n",
    "    prob_reverse_seq_states = get_path_prob(W, revSeqStates)\n",
    "    ratio = prob_stopped_seq_states / prob_reverse_seq_states\n",
    "    path = path + (np.log(ratio),)\n",
    "    path_prob_2.append(path)\n",
    "    \n",
    "# path_prob_2"
   ]
  },
  {
   "cell_type": "code",
   "execution_count": 20,
   "id": "9a954ea8",
   "metadata": {},
   "outputs": [
    {
     "data": {
      "text/plain": [
       "0.9999999999998828"
      ]
     },
     "execution_count": 20,
     "metadata": {},
     "output_type": "execute_result"
    }
   ],
   "source": [
    "# calculate the final step - should be one\n",
    "sum = 0\n",
    "for path in path_prob_2:\n",
    "    delta_s = path[4]\n",
    "    eps = path[3]\n",
    "    c = path[1]*(np.exp(-(delta_s + eps)))\n",
    "    sum += c\n",
    "sum"
   ]
  },
  {
   "cell_type": "code",
   "execution_count": 21,
   "id": "69593da7",
   "metadata": {},
   "outputs": [
    {
     "data": {
      "text/plain": [
       "array([[0.5, 0.7, 0. ],\n",
       "       [0.5, 0. , 0.2],\n",
       "       [0. , 0.3, 0.8]])"
      ]
     },
     "execution_count": 21,
     "metadata": {},
     "output_type": "execute_result"
    }
   ],
   "source": [
    "W"
   ]
  },
  {
   "cell_type": "code",
   "execution_count": 22,
   "id": "5d232708",
   "metadata": {},
   "outputs": [
    {
     "data": {
      "text/plain": [
       "array([1.2, 0.7, 1.1])"
      ]
     },
     "execution_count": 22,
     "metadata": {},
     "output_type": "execute_result"
    }
   ],
   "source": [
    "inflow_vector"
   ]
  },
  {
   "cell_type": "code",
   "execution_count": 23,
   "id": "36f7595d",
   "metadata": {},
   "outputs": [],
   "source": [
    "eps_prob_dict = {}\n",
    "for p in path_prob_2:\n",
    "    str_prob = p[1]\n",
    "    eps = round(p[3], 10)\n",
    "    if eps in eps_prob_dict:\n",
    "        eps_prob_dict[eps] += str_prob\n",
    "    else:\n",
    "        eps_prob_dict[eps] = str_prob\n",
    "# print(eps_prob_dict)"
   ]
  },
  {
   "cell_type": "code",
   "execution_count": 24,
   "id": "7f52b727",
   "metadata": {},
   "outputs": [
    {
     "name": "stdout",
     "output_type": "stream",
     "text": [
      "{0.0: 0.8250164224960134, -0.3364722366: 0.047305542175398466, 0.0689928715: 0.12767803532881386}\n"
     ]
    }
   ],
   "source": [
    "ef_prob_dict = {}\n",
    "for p in path_prob_2:\n",
    "    str_prob = p[1]\n",
    "    ent_flow = round(p[4], 10)\n",
    "    if ent_flow in ef_prob_dict:\n",
    "        ef_prob_dict[ent_flow] += str_prob\n",
    "    else:\n",
    "        ef_prob_dict[ent_flow] = str_prob\n",
    "print(ef_prob_dict)"
   ]
  },
  {
   "cell_type": "code",
   "execution_count": 25,
   "id": "30b2feee",
   "metadata": {},
   "outputs": [],
   "source": [
    "ef_eps_prob_dict = {}\n",
    "for p in path_prob_2:\n",
    "    str_prob = p[1]\n",
    "    flow = np.exp(-(p[4]+p[3]))\n",
    "    if flow in ef_eps_prob_dict:\n",
    "        ef_eps_prob_dict[flow] += str_prob\n",
    "    else:\n",
    "        ef_eps_prob_dict[flow] = str_prob\n",
    "# print(ef_eps_prob_dict)"
   ]
  },
  {
   "cell_type": "code",
   "execution_count": 26,
   "id": "95c0e097",
   "metadata": {},
   "outputs": [
    {
     "data": {
      "text/plain": [
       "1.0000000000000009"
      ]
     },
     "execution_count": 26,
     "metadata": {},
     "output_type": "execute_result"
    }
   ],
   "source": [
    "# to confirm probabilities = 1\n",
    "np.array(list(ef_eps_prob_dict.values())).sum()"
   ]
  },
  {
   "cell_type": "code",
   "execution_count": 47,
   "id": "bcc36ad5",
   "metadata": {},
   "outputs": [
    {
     "data": {
      "image/png": "[encoded data removed]",
      "text/plain": [
       "<Figure size 1600x1000 with 1 Axes>"
      ]
     },
     "metadata": {},
     "output_type": "display_data"
    }
   ],
   "source": [
    "# to plot the histograms\n",
    "import matplotlib.pyplot as plt\n",
    "plt.figure(figsize=(8, 5), dpi=200)\n",
    "\n",
    "plt.title('$e^{(-\\mathcal{S}_e-\\mathcal{Y})}$')\n",
    "\n",
    "plt.bar(ef_eps_prob_dict.keys(), ef_eps_prob_dict.values(), .1, color='lightcoral')\n",
    "# print(max_key)\n",
    "plt.xlim([-0.5, 2])\n",
    "plt.show()"
   ]
  },
  {
   "cell_type": "code",
   "execution_count": 48,
   "id": "6b0322bd",
   "metadata": {},
   "outputs": [
    {
     "data": {
      "image/png": "[encoded data removed]",
      "text/plain": [
       "<Figure size 1600x1000 with 1 Axes>"
      ]
     },
     "metadata": {},
     "output_type": "display_data"
    }
   ],
   "source": [
    "plt.figure(figsize=(8, 5), dpi=200)\n",
    "plt.bar(ef_prob_dict.keys(), ef_prob_dict.values(), .1, color='lightcoral')\n",
    "# print(max_key)\n",
    "# plt.xlim([-0.1, 2])\n",
    "plt.title('$\\mathcal{S}_e$')\n",
    "plt.show()"
   ]
  },
  {
   "cell_type": "code",
   "execution_count": 49,
   "id": "8ae43f32",
   "metadata": {},
   "outputs": [
    {
     "data": {
      "image/png": "[encoded data removed]",
      "text/plain": [
       "<Figure size 1600x1000 with 1 Axes>"
      ]
     },
     "metadata": {},
     "output_type": "display_data"
    }
   ],
   "source": [
    "# to plot the histograms\n",
    "import matplotlib.pyplot as plt\n",
    "plt.figure(figsize=(8, 5), dpi=200)\n",
    "\n",
    "plt.bar(eps_prob_dict.keys(), eps_prob_dict.values(), .1, color='lightcoral')\n",
    "# print(max_key)\n",
    "#plt.xlim([-2.0, 2])\n",
    "plt.title('$\\mathcal{Y}$')\n",
    "\n",
    "plt.show()"
   ]
  },
  {
   "cell_type": "code",
   "execution_count": null,
   "id": "5727eea3",
   "metadata": {},
   "outputs": [],
   "source": []
  }
 ],
 "metadata": {
  "kernelspec": {
   "display_name": "Python 3 (ipykernel)",
   "language": "python",
   "name": "python3"
  },
  "language_info": {
   "codemirror_mode": {
    "name": "ipython",
    "version": 3
   },
   "file_extension": ".py",
   "mimetype": "text/x-python",
   "name": "python",
   "nbconvert_exporter": "python",
   "pygments_lexer": "ipython3",
   "version": "3.11.0"
  }
 },
 "nbformat": 4,
 "nbformat_minor": 5
}
